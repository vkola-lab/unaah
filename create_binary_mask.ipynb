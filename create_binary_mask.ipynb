{
 "cells": [
  {
   "cell_type": "code",
   "execution_count": null,
   "metadata": {},
   "outputs": [],
   "source": [
    "import numpy as np\n",
    "from matplotlib import pyplot\n",
    "import matplotlib.pyplot as plt\n",
    "import sys\n",
    "import os\n",
    "import cv2\n",
    "from skimage import data, filters\n",
    "from skimage.segmentation import flood, flood_fill\n",
    "from PIL import Image as im "
   ]
  },
  {
   "cell_type": "code",
   "execution_count": null,
   "metadata": {},
   "outputs": [],
   "source": [
    "# define constants and input, output paths\n",
    "inpath = '/home/eikthedragonslayer/Desktop/CVS_data/CVS/Annotated/2'\n",
    "outpath = '/home/eikthedragonslayer/Desktop/CVS_data/CVS/mask/2'\n",
    "if not os.path.isdir(outpath):\n",
    "    os.mkdir(outpath)"
   ]
  },
  {
   "cell_type": "code",
   "execution_count": null,
   "metadata": {},
   "outputs": [],
   "source": [
    "def consecutive(data, stepsize=8):\n",
    "    return np.split(data, np.where(np.diff(data) >= stepsize)[0]+1)"
   ]
  },
  {
   "cell_type": "code",
   "execution_count": null,
   "metadata": {},
   "outputs": [],
   "source": [
    "# for the IVUS dataset\n",
    "for img in os.listdir(inpath):\n",
    "    print(img)\n",
    "    basename = img.split('.')[0]\n",
    "    if '_LI' in basename:\n",
    "        basename = basename[:-3]\n",
    "    image = plt.imread(os.path.join(inpath, img))\n",
    "    image = image[0:499,0:499] # resize\n",
    "    plt.imshow(image)\n",
    "    plt.show()\n",
    "    mask = image[:,:,0]-image[:,:,1]\n",
    "    mask[mask > 230] = 0 # to reduce red inconsistence noise and find the pure red circle\n",
    "    mask[mask < 50] = 0\n",
    "    result = mask.copy()\n",
    "    # create binary mask\n",
    "    seed = (0,0)\n",
    "    count = 0\n",
    "    for i in range(result.shape[0]):\n",
    "        if np.sum(result[i]) > 0:\n",
    "            count += 1\n",
    "            if count > 30:\n",
    "                row = np.nonzero(result[i])[0]\n",
    "                if row.shape[0] > 1:\n",
    "                    groups = consecutive(row)\n",
    "                    if len(groups) > 1:\n",
    "                        seed = (i,groups[-1][0]-10)\n",
    "                        break\n",
    "    result = flood_fill(result, seed, 255)\n",
    "    result = result-mask\n",
    "    result[result > 0] = 255\n",
    "    new_mask = np.zeros_like(image)\n",
    "    new_mask[:,:,0] = result\n",
    "    new_mask[:,:,1] = result\n",
    "    new_mask[:,:,2] = result\n",
    "    #plt.imshow(result)\n",
    "    plt.imshow(new_mask)\n",
    "    plt.show()\n",
    "    print(np.sum(result > 0))\n",
    "    print(np.sum(result == 255))\n",
    "    bfn =basename+'.npy'\n",
    "    fn = basename+'.jpeg'\n",
    "    #print(fn)\n",
    "    #sys.exit()\n",
    "    out1 = os.path.join(outpath, fn)\n",
    "    out2 = os.path.join(outpath, bfn)\n",
    "    data = im.fromarray(new_mask)\n",
    "    data.save(out1)\n",
    "    result = result / 255\n",
    "    with open(out2,'wb') as f:\n",
    "        np.save(f,result)"
   ]
  }
 ],
 "metadata": {
  "kernelspec": {
   "display_name": "Python 3",
   "language": "python",
   "name": "python3"
  },
  "language_info": {
   "codemirror_mode": {
    "name": "ipython",
    "version": 3
   },
   "file_extension": ".py",
   "mimetype": "text/x-python",
   "name": "python",
   "nbconvert_exporter": "python",
   "pygments_lexer": "ipython3",
   "version": "3.8.5"
  }
 },
 "nbformat": 4,
 "nbformat_minor": 2
}
